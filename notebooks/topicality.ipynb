{
 "cells": [
  {
   "cell_type": "markdown",
   "metadata": {},
   "source": [
    "## Libraries ##\n",
    "\n",
    "[from [Digital Ocean](https://www.digitalocean.com/community/tutorials/how-to-import-modules-in-python-3)], Modules are Python `.py` files that consist of Python code. Any Python file can be referenced as a module. A Python file called `hello.py` has the module name of `hello` that can be imported into other Python files or used on the Python command line interpreter.\n",
    "\n",
    "Modules can define functions, classes, and variables that you can reference in other Python `.py` files or via the Python command line interpreter. In Python, modules are accessed by using the `import` statement. When you do this, you execute the code of the module, keeping the scopes of the definitions so that your current file(s) can make use of these.\n",
    "\n",
    "When Python imports a module called `hello` for example, the interpreter will first search for a built-in module called `hello`. If a built-in module is not found, the Python interpreter will then search for a file named `hello.py` in a list of directories that it receives from the `sys.path` variable."
   ]
  },
  {
   "cell_type": "code",
   "execution_count": 9,
   "metadata": {},
   "outputs": [],
   "source": [
    "import glob, os, re\n",
    "\n",
    "from natsort import natsorted\n",
    "# structuring\n",
    "from sklearn.feature_extraction.text import TfidfVectorizer\n",
    "# model\n",
    "from sklearn.decomposition import NMF"
   ]
  },
  {
   "cell_type": "markdown",
   "metadata": {},
   "source": [
    "## Functions ##\n",
    "Python provides a way to package our code so that it is easier to reuse by letting us define things called 'functions' — a shorthand way of re-executing longer pieces of code. The function definition opens with the keyword `def` followed by the name of the function (`txt2dict`) and a parenthesized list of parameter names (`filenames`). The body of the function - the statements that are executed when it runs - is indented below the definition line. The body concludes with a `return` keyword followed by the return value."
   ]
  },
  {
   "cell_type": "code",
   "execution_count": 18,
   "metadata": {},
   "outputs": [],
   "source": [
    "def txt2dict(filenames):\n",
    "    \"\"\" read all txt files to dictionary with filename as key\n",
    "    \"\"\"\n",
    "    # out vars\n",
    "    db = dict()\n",
    "    # delete patterns\n",
    "    tag_file = re.compile(r\".txt\")\n",
    "    tag_content = re.compile(r\"<(.*?)>\")\n",
    "    # build\n",
    "    for i, filename in enumerate(filenames):\n",
    "        with open(filename,\"r\") as fobj:\n",
    "            content = fobj.read()\n",
    "            content = tag_content.sub(\"\",content)\n",
    "            db[tag_file.sub(\"\",os.path.basename(filename))] = content\n",
    "\n",
    "    return db\n",
    "\n",
    "def display_topics(model, feature_names, no_top_words):\n",
    "    \"\"\" display no_top_words number of words for each topic in a sklearn latent variable model\n",
    "    \"\"\"\n",
    "    for topic_idx, topic in enumerate(model.components_):\n",
    "        print(\"Topic {}:\".format(topic_idx))\n",
    "        print(\" \".join([feature_names[i]\n",
    "                        for i in topic.argsort()[:-no_top_words - 1:-1]]))"
   ]
  },
  {
   "cell_type": "markdown",
   "metadata": {},
   "source": [
    "## data ##"
   ]
  },
  {
   "cell_type": "code",
   "execution_count": 12,
   "metadata": {},
   "outputs": [],
   "source": [
    "d_path = os.path.join(\"..\",\"data\")\n",
    "fnames = sorted(glob.glob(os.path.join(d_path,\"ocr\",\"*.txt\")))\n",
    "data = txt2dict(fnames)\n",
    "fnames = natsorted(list(data.keys()))\n",
    "texts = [data[fname] for fname in fnames]"
   ]
  },
  {
   "cell_type": "markdown",
   "metadata": {},
   "source": [
    "## Vector space model ##\n",
    "\n",
    "[From [Wiki](https://en.wikipedia.org/wiki/Vector_space_model)] Documents and queries are represented as vectors.\n",
    "\n",
    "$$\n",
    "{\\displaystyle d_{j}=(w_{1,j},w_{2,j},\\dotsc ,w_{t,j})} d_j = ( w_{1,j} ,w_{2,j} , \\dotsc ,w_{t,j} )\n",
    "$$\n",
    "$$\n",
    "{\\displaystyle q=(w_{1,q},w_{2,q},\\dotsc ,w_{n,q})} q = ( w_{1,q} ,w_{2,q} , \\dotsc ,w_{n,q} )\n",
    "$$\n",
    "\n",
    "Each dimension corresponds to a separate term. If a term occurs in the document, its value in the vector is non-zero. Several different ways of computing these values, also known as (term) weights, have been developed. One of the best known schemes is tf-idf weighting (see the example below).\n",
    "\n",
    "The definition of term depends on the application. Typically terms are single words, keywords, or longer phrases. If words are chosen to be the terms, the dimensionality of the vector is the number of words in the vocabulary (the number of distinct words occurring in the corpus).\n",
    "\n",
    "Vector operations can be used to compare documents with queries.\n",
    "\n",
    "### TF-IDF weighting ###\n",
    "\n",
    "TODO"
   ]
  },
  {
   "cell_type": "code",
   "execution_count": 14,
   "metadata": {},
   "outputs": [],
   "source": [
    "no_features = 1000# number of words to use from the lexicon within the vectorizer's parameters\n",
    "\n",
    "tfidf_vectorizer = TfidfVectorizer(max_df=0.80, min_df=10, max_features=no_features)\n",
    "\n",
    "tfidf = tfidf_vectorizer.fit_transform(texts)\n",
    "tfidf_feature_names = tfidf_vectorizer.get_feature_names()"
   ]
  },
  {
   "cell_type": "markdown",
   "metadata": {},
   "source": [
    "## Non-negative Matrix Factorization (NMF) ##"
   ]
  },
  {
   "cell_type": "code",
   "execution_count": 15,
   "metadata": {},
   "outputs": [],
   "source": [
    "no_topics = 50\n",
    "nmf = NMF(n_components=no_topics, random_state=1, alpha=.1, l1_ratio=.5, init='nndsvd').fit(tfidf)\n",
    "no_top_words = 10"
   ]
  },
  {
   "cell_type": "code",
   "execution_count": 16,
   "metadata": {},
   "outputs": [],
   "source": [
    "W = nmf.fit_transform(tfidf)\n",
    "H = nmf.components_"
   ]
  },
  {
   "cell_type": "code",
   "execution_count": 17,
   "metadata": {},
   "outputs": [
    {
     "name": "stdout",
     "output_type": "stream",
     "text": [
      "*** NMF model with 50 components\n",
      "Topic 0:\n",
      "theory does sense way experience say fact object point things\n",
      "Topic 1:\n",
      "pottery site sites archaeological excavations archaeology area neolithic stone period\n",
      "Topic 2:\n",
      "der die und von das den zu ist nicht des\n",
      "Topic 3:\n",
      "god divine theology biblical man evil love creation lord does\n",
      "Topic 4:\n",
      "images image visual painting representation century space cult vision landscape\n",
      "Topic 5:\n",
      "la et le les des du une dans est que\n",
      "Topic 6:\n",
      "book chapter author text books reader work volume authors reading\n",
      "Topic 7:\n",
      "10 11 12 13 14 15 20 16 17 18\n",
      "Topic 8:\n",
      "amp press 2000 2002 2003 2004 2001 university 1997 1998\n",
      "Topic 9:\n",
      "art artist painting work arts aesthetic works museum objects visual\n",
      "Topic 10:\n",
      "animals animal human humans beings moral species food like people\n",
      "Topic 11:\n",
      "rock sites art site cave figures river archaeological figure red\n",
      "Topic 12:\n",
      "poem poetry poet love lines literary like line death self\n",
      "Topic 13:\n",
      "american history university america york war century national john press\n",
      "Topic 14:\n",
      "gods divine ritual myth cult deity temple sun king ancient\n",
      "Topic 15:\n",
      "religion religious belief faith beliefs experience spiritual life moral theology\n",
      "Topic 16:\n",
      "al et ma studies ed lt scholars early tradition translation\n",
      "Topic 17:\n",
      "pp vol press london 95 ed figs york und der\n",
      "Topic 18:\n",
      "social political society economic cultural culture people human individual group\n",
      "Topic 19:\n",
      "science scientific sciences students knowledge theory education evolution research natural\n",
      "Topic 20:\n",
      "jewish israel biblical christian divine tradition medieval texts temple literature\n",
      "Topic 21:\n",
      "man people like children life child old said men day\n",
      "Topic 22:\n",
      "la el del que en los mexico di se es\n",
      "Topic 23:\n",
      "species evolution natural population environmental food water size distribution areas\n",
      "Topic 24:\n",
      "music performance piece movement aesthetic play works arts century work\n",
      "Topic 25:\n",
      "figure museum figures head collection stone plate century pl objects\n",
      "Topic 26:\n",
      "greek roman classical rome century ancient bronze cult early evidence\n",
      "Topic 27:\n",
      "narrative novel story literary text reader literature self reading discourse\n",
      "Topic 28:\n",
      "women female male woman men mother ritual family power figurines\n",
      "Topic 29:\n",
      "film scene visual space technology narrative production like work black\n",
      "Topic 30:\n",
      "african africa south black arts west museum objects european white\n",
      "Topic 31:\n",
      "law legal court state laws government states note public political\n",
      "Topic 32:\n",
      "architecture building design house temple space city wall walls built\n",
      "Topic 33:\n",
      "fig figs pl wall head type ii rim tomb bronze\n",
      "Topic 34:\n",
      "cf ii iii gt lt amp ff iv passage vi\n",
      "Topic 35:\n",
      "church christian christ st faith theology century religious spiritual john\n",
      "Topic 36:\n",
      "dr professor author amp college volume work students university london\n",
      "Topic 37:\n",
      "mr man great professor facts english mind amp say good\n",
      "Topic 38:\n",
      "chinese ch western century early west ancient period east painting\n",
      "Topic 39:\n",
      "nature man human world life natural self universe moral things\n",
      "Topic 40:\n",
      "00 50 society paper university edition journal 95 60 anthropology\n",
      "Topic 41:\n",
      "cm gt lt red black white rim surface painted painting\n",
      "Topic 42:\n",
      "test tests impact data vehicle model head design response results\n",
      "Topic 43:\n",
      "language words word meaning speech english text writing discourse use\n",
      "Topic 44:\n",
      "philosophy philosophical thought truth moral knowledge reason history logic theology\n",
      "Topic 45:\n",
      "birds bird young white black food species behavior literature north\n",
      "Topic 46:\n",
      "body bodies soul self human death mind physical dead space\n",
      "Topic 47:\n",
      "behavior psychology research human social evolution mental york study male\n",
      "Topic 48:\n",
      "indian india temple south century sacred western east deity ancient\n",
      "Topic 49:\n",
      "cit op ibid ff pl cf van note london century\n"
     ]
    }
   ],
   "source": [
    "print(\"*** NMF model with {} components\".format(no_topics))\n",
    "display_topics(nmf, tfidf_feature_names, no_top_words)"
   ]
  }
 ],
 "metadata": {
  "kernelspec": {
   "display_name": "demo",
   "language": "python",
   "name": "demo"
  },
  "language_info": {
   "codemirror_mode": {
    "name": "ipython",
    "version": 3
   },
   "file_extension": ".py",
   "mimetype": "text/x-python",
   "name": "python",
   "nbconvert_exporter": "python",
   "pygments_lexer": "ipython3",
   "version": "3.5.2"
  }
 },
 "nbformat": 4,
 "nbformat_minor": 2
}
