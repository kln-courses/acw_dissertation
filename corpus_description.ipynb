{
 "cells": [
  {
   "cell_type": "markdown",
   "metadata": {},
   "source": [
    "Define environment"
   ]
  },
  {
   "cell_type": "code",
   "execution_count": 1,
   "metadata": {},
   "outputs": [],
   "source": [
    "import glob, os, re"
   ]
  },
  {
   "cell_type": "markdown",
   "metadata": {},
   "source": [
    "Import texts"
   ]
  },
  {
   "cell_type": "code",
   "execution_count": 2,
   "metadata": {},
   "outputs": [
    {
     "name": "stdout",
     "output_type": "stream",
     "text": [
      "number of articles: 25487\n"
     ]
    }
   ],
   "source": [
    "filenames = sorted(glob.glob(os.path.join(\"data\",\"ocr\",\"*.txt\")))\n",
    "\n",
    "n = len(filenames)\n",
    "print(\"number of articles: {}\".format(n))\n",
    "\n",
    "content = list()\n",
    "for i, filename in enumerate(filenames[:10]):\n",
    "    with open(filename,\"r\") as fobj:\n",
    "        content.append(fobj.read())"
   ]
  },
  {
   "cell_type": "markdown",
   "metadata": {},
   "source": [
    "Types of texts"
   ]
  },
  {
   "cell_type": "code",
   "execution_count": 3,
   "metadata": {},
   "outputs": [
    {
     "name": "stdout",
     "output_type": "stream",
     "text": [
      "text classes contained in the corpus ['pamphlet', 'journal-article', 'research-report', 'book-chapter']\n"
     ]
    }
   ],
   "source": [
    "text_class = list()\n",
    "for filename in filenames:\n",
    "    tmp = filename.split(\"/\")[-1]\n",
    "    if \"pamphlet\" in tmp:\n",
    "        tmp = \"pamphlet\"\n",
    "    else:\n",
    "        tmp = \"-\".join(tmp.split(\"-\")[0:2])\n",
    "    text_class.append(tmp)\n",
    "\n",
    "print(\"text classes contained in the corpus {}\".format(list(set(text_class))))"
   ]
  },
  {
   "cell_type": "markdown",
   "metadata": {},
   "source": [
    "Explore text"
   ]
  },
  {
   "cell_type": "code",
   "execution_count": 4,
   "metadata": {},
   "outputs": [
    {
     "name": "stdout",
     "output_type": "stream",
     "text": [
      "data/ocr/book-chapter-10.1163_j.ctt1w76ttq.16.txt\n",
      "Fr(Anthropomorphism) = 0\n",
      "Fr(anthropomorph) = 1\n",
      "Fr(anthropomorphic) = 1\n"
     ]
    }
   ],
   "source": [
    "text = content[0]\n",
    "print(filenames[0])\n",
    "\n",
    "query_list = [\"Anthropomorphism\", \"anthropomorph\", \"anthropomorphic\"]\n",
    "for query in query_list:\n",
    "    idxs = [m.start() for m in re.finditer(query, text)]\n",
    "    print(\"Fr({}) = {}\".format(query,len(idxs)))"
   ]
  },
  {
   "cell_type": "markdown",
   "metadata": {},
   "source": [
    "Remove tags from text"
   ]
  },
  {
   "cell_type": "code",
   "execution_count": null,
   "metadata": {},
   "outputs": [],
   "source": [
    "tags = ['<plain_text> <page sequence=\"1\">','</page> </plain_text>']\n",
    "\n",
    "for tag in tags:\n",
    "    text = re.sub(tag,\"\",text)"
   ]
  }
 ],
 "metadata": {
  "kernelspec": {
   "display_name": "demo",
   "language": "python",
   "name": "demo"
  },
  "language_info": {
   "codemirror_mode": {
    "name": "ipython",
    "version": 3
   },
   "file_extension": ".py",
   "mimetype": "text/x-python",
   "name": "python",
   "nbconvert_exporter": "python",
   "pygments_lexer": "ipython3",
   "version": "3.5.2"
  }
 },
 "nbformat": 4,
 "nbformat_minor": 2
}
